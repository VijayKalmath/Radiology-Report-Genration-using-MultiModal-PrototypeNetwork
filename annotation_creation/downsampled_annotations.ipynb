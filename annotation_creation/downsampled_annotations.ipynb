{
 "cells": [
  {
   "cell_type": "code",
   "execution_count": 1,
   "id": "2f70d2b7",
   "metadata": {},
   "outputs": [],
   "source": [
    "import json\n",
    "import pickle\n",
    "import numpy as np\n",
    "import random"
   ]
  },
  {
   "cell_type": "code",
   "execution_count": 2,
   "id": "5f81801e",
   "metadata": {},
   "outputs": [
    {
     "name": "stdout",
     "output_type": "stream",
     "text": [
      "train : 2069\n",
      "val : 296\n",
      "test : 590\n"
     ]
    }
   ],
   "source": [
    "with open('/Users/navjot/projects/capstone/Radiology-Report-Genration-using-MultiModal-PrototypeNetwork/files/iu_xray/labels_14.pickle','rb') as myfile:\n",
    "    labels = pickle.load(myfile)\n",
    "\n",
    "with open('/Users/navjot/projects/capstone/Radiology-Report-Genration-using-MultiModal-PrototypeNetwork/data/iu_xray/annotation.json') as json_file:\n",
    "    annotations = json.load(json_file)\n",
    "\n",
    "label_map = {\n",
    "    0:'Enlarged Cardiomediastinum',\n",
    "    1:'Cardiomegaly',\n",
    "    2:'Lung Opacity',\n",
    "    3:'Lung Lesion',\n",
    "    4:'Edema',\n",
    "    5:'Consolidation',\n",
    "    6:'Pneumonia',\n",
    "    7:'Atelectasis',\n",
    "    8:'Pneumothorax',\n",
    "    9:'Pleural Effusion',\n",
    "    10:'Pleural Other',\n",
    "    11:'Fracture',\n",
    "    12:'Support Devices',\n",
    "    13:'No Finding'\n",
    "}\n",
    "\n",
    "for split in annotations.keys():\n",
    "    print(split, ':', len(annotations[split]))"
   ]
  },
  {
   "cell_type": "code",
   "execution_count": 3,
   "id": "57644826",
   "metadata": {},
   "outputs": [
    {
     "name": "stdout",
     "output_type": "stream",
     "text": [
      "Distribution of various pseudo-labels across all splits:\n",
      "\t 0 : 39\n",
      "\t 1 : 193\n",
      "\t 2 : 270\n",
      "\t 3 : 80\n",
      "\t 4 : 65\n",
      "\t 5 : 22\n",
      "\t 6 : 98\n",
      "\t 7 : 188\n",
      "\t 8 : 15\n",
      "\t 9 : 99\n",
      "\t 10 : 22\n",
      "\t 11 : 39\n",
      "\t 12 : 30\n",
      "\t 13 : 2293\n",
      "Total number of reports with no finding: 2293\n"
     ]
    }
   ],
   "source": [
    "reports_with_no_finding = []\n",
    "condition_count = {}\n",
    "for idx in range(14):\n",
    "    condition_count[idx] = 0\n",
    "\n",
    "for rep in list(labels.keys()):\n",
    "    for idx in np.where(labels[rep] == 1)[0]:\n",
    "        condition_count[idx] += 1\n",
    "        if idx == 13:\n",
    "            reports_with_no_finding.append(rep)\n",
    "\n",
    "print('Distribution of various pseudo-labels across all splits:')\n",
    "for condition in condition_count:\n",
    "    print('\\t', condition, ':', condition_count[condition])\n",
    "    \n",
    "print('Total number of reports with no finding:', len(reports_with_no_finding))"
   ]
  },
  {
   "cell_type": "code",
   "execution_count": 4,
   "id": "de6c53c0",
   "metadata": {},
   "outputs": [
    {
     "name": "stdout",
     "output_type": "stream",
     "text": [
      "Total number of reports in training data: 2069\n",
      "Number of reports in training data with no finding: 1517\n"
     ]
    }
   ],
   "source": [
    "train_reports = [item['id'] for item in annotations['train']]\n",
    "print('Total number of reports in training data:', len(train_reports))\n",
    "\n",
    "train_no_finding, train_others = [], []\n",
    "for report in train_reports:\n",
    "    if report in reports_with_no_finding:\n",
    "        train_no_finding.append(report)\n",
    "    else:\n",
    "        train_others.append(report)\n",
    "\n",
    "print('Number of reports in training data with no finding:', len(train_no_finding))"
   ]
  },
  {
   "cell_type": "code",
   "execution_count": 5,
   "id": "e6af77a5",
   "metadata": {},
   "outputs": [],
   "source": [
    "downsampled_train_no_finding = random.choices(train_no_finding, k=150)\n",
    "train_downsampled = train_others + downsampled_train_no_finding\n",
    "\n",
    "train_annotations_downsampled = []\n",
    "\n",
    "for report in annotations['train']:\n",
    "    if report['id'] in train_downsampled:\n",
    "        train_annotations_downsampled.append(report)\n",
    "\n",
    "annotations['train'] = train_annotations_downsampled"
   ]
  },
  {
   "cell_type": "code",
   "execution_count": 6,
   "id": "1a50e70e",
   "metadata": {},
   "outputs": [
    {
     "name": "stdout",
     "output_type": "stream",
     "text": [
      "train : 693\n",
      "val : 296\n",
      "test : 590\n"
     ]
    }
   ],
   "source": [
    "for split in annotations.keys():\n",
    "    print(split, ':', len(annotations[split]))"
   ]
  },
  {
   "cell_type": "code",
   "execution_count": 7,
   "id": "3f18b88f",
   "metadata": {},
   "outputs": [],
   "source": [
    "with open('downsampled_annotations.json', 'w') as of:\n",
    "    json.dump(annotations, of)"
   ]
  },
  {
   "cell_type": "code",
   "execution_count": null,
   "id": "3f666ca5",
   "metadata": {},
   "outputs": [],
   "source": []
  }
 ],
 "metadata": {
  "kernelspec": {
   "display_name": "Python 3 (ipykernel)",
   "language": "python",
   "name": "python3"
  },
  "language_info": {
   "codemirror_mode": {
    "name": "ipython",
    "version": 3
   },
   "file_extension": ".py",
   "mimetype": "text/x-python",
   "name": "python",
   "nbconvert_exporter": "python",
   "pygments_lexer": "ipython3",
   "version": "3.9.12"
  }
 },
 "nbformat": 4,
 "nbformat_minor": 5
}
